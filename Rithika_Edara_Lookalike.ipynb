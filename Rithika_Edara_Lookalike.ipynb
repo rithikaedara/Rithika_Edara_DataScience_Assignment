{
  "nbformat": 4,
  "nbformat_minor": 0,
  "metadata": {
    "colab": {
      "provenance": []
    },
    "kernelspec": {
      "name": "python3",
      "display_name": "Python 3"
    },
    "language_info": {
      "name": "python"
    }
  },
  "cells": [
    {
      "cell_type": "code",
      "source": [
        "customer_features = data.groupby('CustomerID').agg({'TotalValue': 'sum', 'Quantity': 'sum'}).reset_index()\n",
        "scaler = StandardScaler()\n",
        "scaled_features = scaler.fit_transform(customer_features[['TotalValue', 'Quantity']])\n",
        "\n",
        "similarity_matrix = cosine_similarity(scaled_features)\n",
        "customer_similarity_df = pd.DataFrame(similarity_matrix, index=customer_features['CustomerID'], columns=customer_features['CustomerID'])"
      ],
      "metadata": {
        "id": "EZSlX8bf0v2R"
      },
      "execution_count": 16,
      "outputs": []
    },
    {
      "cell_type": "code",
      "source": [
        "lookalike_results = {}\n",
        "for cust in customer_features['CustomerID'][:20]:\n",
        "    similar_customers = customer_similarity_df[cust].sort_values(ascending=False)[1:4]\n",
        "    lookalike_results[cust] = list(zip(similar_customers.index, similar_customers.values))\n",
        "lookalike_df = pd.DataFrame.from_dict(lookalike_results, orient='index', columns=['Lookalike1', 'Lookalike2', 'Lookalike3'])\n",
        "lookalike_data = [\n",
        "    {\n",
        "        'cust_id': cust,\n",
        "        'lookalikes': str([item for sublist in lookalike_results[cust] for item in sublist])\n",
        "    }\n",
        "    for cust in lookalike_results\n",
        "]\n",
        "lookalike_df = pd.DataFrame(lookalike_data)\n",
        "lookalike_df.to_csv('Lookalike.csv', index=False)\n",
        "\n"
      ],
      "metadata": {
        "id": "K4LbTI1m02xM"
      },
      "execution_count": 28,
      "outputs": []
    },
    {
      "cell_type": "code",
      "source": [
        "scaler = StandardScaler()\n",
        "scaled_features = scaler.fit_transform(customer_features[['TotalValue', 'Quantity']])\n"
      ],
      "metadata": {
        "id": "-z9GfPWaPf4T"
      },
      "execution_count": 29,
      "outputs": []
    },
    {
      "cell_type": "code",
      "source": [
        "print(lookalike_df.head())\n"
      ],
      "metadata": {
        "colab": {
          "base_uri": "https://localhost:8080/"
        },
        "id": "5mHDvPbSPhgM",
        "outputId": "2bb0df9c-e011-4e50-a9a3-1a18571bc6d2"
      },
      "execution_count": 30,
      "outputs": [
        {
          "output_type": "stream",
          "name": "stdout",
          "text": [
            "  cust_id                                         lookalikes\n",
            "0   C0001  ['C0085', 0.9999990504724361, 'C0042', 0.99982...\n",
            "1   C0002  ['C0157', 0.9999942410168485, 'C0166', 0.99987...\n",
            "2   C0003  ['C0111', 0.9940081095432594, 'C0160', 0.99045...\n",
            "3   C0004  ['C0162', 0.9999999965087093, 'C0165', 0.99995...\n",
            "4   C0005  ['C0080', 0.9999822355480511, 'C0167', 0.99997...\n"
          ]
        }
      ]
    },
    {
      "cell_type": "code",
      "source": [
        "lookalike_df.to_csv('Lookalike.csv',index=True)\n"
      ],
      "metadata": {
        "id": "MVLHtttFPl-p"
      },
      "execution_count": 31,
      "outputs": []
    },
    {
      "cell_type": "code",
      "source": [
        "print(\"Lookalike model results saved to 'Lookalike.csv'.\")"
      ],
      "metadata": {
        "colab": {
          "base_uri": "https://localhost:8080/"
        },
        "id": "JUPQB84iQPwN",
        "outputId": "fb0457b5-2c11-4a84-8dc9-afd678cc6767"
      },
      "execution_count": 32,
      "outputs": [
        {
          "output_type": "stream",
          "name": "stdout",
          "text": [
            "Lookalike model results saved to 'Lookalike.csv'.\n"
          ]
        }
      ]
    }
  ]
}